{
 "cells": [
  {
   "cell_type": "markdown",
   "metadata": {},
   "source": [
    "# Adding New Product Details into JSON"
   ]
  },
  {
   "cell_type": "code",
   "execution_count": null,
   "metadata": {
    "collapsed": false
   },
   "outputs": [],
   "source": [
    "import time   #importing time package for updating time of purchasing stocks\n",
    "import json\n",
    "#Reading the stock files in JSON\n",
    "file = open(\"stock.json\", \"r\")\n",
    "stock = file.read()\n",
    "file.close()\n",
    "#Dictionary for stock details\n",
    "stock_details = {}\n",
    "#Converting JSON string into dictionary\n",
    "stock_details = json.loads(stock)\n",
    "\n",
    "n = int(input(\"Enter the no. of entries: \"))    #No. of products to be added in inventory\n",
    "prod_id = int(input(\"Enter the product ID: \"))  #Enter starting Product ID\n",
    "\n",
    "for i in range(n):  #Getting product details\n",
    "    prod_name = input(\"Enter Product name: \")\n",
    "    prod_price = input(\"Enter %s price: \"%prod_name)\n",
    "    prod_quantity = input(\"Enter No. of Quantity: \")\n",
    "    last_update_time = time.ctime()\n",
    "    print(\"\\n\")\n",
    "    #Updating dictionary for each product\n",
    "    stock_details[prod_id] = {\"name\": prod_name, \"price\": prod_price, \"quantity\": prod_quantity, \"last update\" : last_update_time }\n",
    "    prod_id += 1\n",
    "    \n",
    "stocks = json.dumps(stock_details)  #dumping dictionary into JSON string\n",
    "#Updating the JSON file\n",
    "file = open(\"stock.json\", \"w\")\n",
    "file.write(stocks)\n",
    "file.close()\n",
    "\n",
    "#BY - Nitheesh Kumaar M V"
   ]
  },
  {
   "cell_type": "markdown",
   "metadata": {
    "collapsed": true
   },
   "source": [
    "# Editing Existing Stock details"
   ]
  },
  {
   "cell_type": "code",
   "execution_count": null,
   "metadata": {
    "collapsed": false
   },
   "outputs": [],
   "source": [
    "import time      #To edit existing product details\n",
    "import json\n",
    "\n",
    "file = open(\"stock.json\", \"r\")\n",
    "stock = file.read()\n",
    "file.close()\n",
    "\n",
    "stock_details = json.loads(stock)\n",
    "#Flag - to make sure if user want to edit stock details\n",
    "flag = input(\"Do you want to edit? (Y/N) : \")\n",
    "\n",
    "while(flag == \"Y\" or flag == \"y\"):\n",
    "    prod_id = input(\"Enter Product ID: \")  #Getting Product ID\n",
    "\n",
    "    if prod_id in stock_details: #Displaying existing details of that stock\n",
    "        print(\"Product Name:\",stock_details[prod_id][\"name\"])\n",
    "        print(\"Product Price:\",stock_details[prod_id][\"price\"])\n",
    "        print(\"Product Quantity:\",stock_details[prod_id][\"quantity\"])\n",
    "    \n",
    "        print(\"\\n\")\n",
    "        print(\"What do you want to edit? \") #What parameter to be changed?\n",
    "        print(\"Enter    N - Name\")\n",
    "        print(\"         P - Price\")\n",
    "        print(\"         Q - Quantity\")\n",
    "        choice = input(\"Enter your option: \")\n",
    "    \n",
    "        if choice == \"N\" or choice == \"n\": #if Product Name to be changed\n",
    "            New_Name = input(\"Enter New Name: \")\n",
    "            stock_details[prod_id][\"name\"] = New_Name\n",
    "            last_update_time = time.ctime()\n",
    "            stock_details[prod_id][\"last update\"] = last_update_time\n",
    "    \n",
    "        elif choice == \"P\" or choice == \"p\": #if Product Price to be changed\n",
    "            New_Price = input(\"Enter New Price: \")\n",
    "            stock_details[prod_id][\"price\"] = New_Price\n",
    "            last_update_time = time.ctime()\n",
    "            stock_details[prod_id][\"last update\"] = last_update_time\n",
    "        \n",
    "        elif choice == \"Q\" or choice == \"q\": #if Product Quantity to be changed - Adding stocks\n",
    "            print(\"Note: You have\",stock_details[prod_id][\"quantity\"], \"of\",stock_details[prod_id][\"name\"])\n",
    "            print(\"You are about to add new stock!\")\n",
    "            are_u_sure = input(\"Are you sure? (Y/N) : \")\n",
    "        \n",
    "            if are_u_sure == \"Y\" or are_u_sure == \"y\":\n",
    "                New_Quantity = int(input(\"Enter New Quantity: \")) #Adding new stock with previous number of stocks\n",
    "                stock_details[prod_id][\"quantity\"] = int(stock_details[prod_id][\"quantity\"]) + New_Quantity\n",
    "                last_update_time = time.ctime()\n",
    "                stock_details[prod_id][\"last update\"] = last_update_time\n",
    "        \n",
    "    \n",
    "    else:\n",
    "        print(\"Product ID Not Found!\")\n",
    "        \n",
    "    flag = input(\"Do you have any other change? (Y/N) : \")\n",
    "    print(\"\\n\")\n",
    "    \n",
    "#Converting updated dictionary into JSON string    \n",
    "stocks = json.dumps(stock_details) \n",
    "#JSON File updation\n",
    "file = open(\"stock.json\", \"w\")\n",
    "file.write(stocks)\n",
    "file.close()\n",
    "\n",
    "#BY - Nitheesh Kumaar M V"
   ]
  },
  {
   "cell_type": "markdown",
   "metadata": {},
   "source": [
    "# Removing Existing Stock"
   ]
  },
  {
   "cell_type": "code",
   "execution_count": null,
   "metadata": {
    "collapsed": false
   },
   "outputs": [],
   "source": [
    "import json  #To remove existing stock from inventory\n",
    "\n",
    "file = open(\"stock.json\", \"r\")\n",
    "stock = file.read()\n",
    "file.close()\n",
    "\n",
    "stock_details = json.loads(stock)\n",
    "\n",
    "flag = input(\"Do you want to remove stocks? (Y/N) : \")\n",
    "\n",
    "while(flag == \"Y\" or flag == \"y\"):\n",
    "    prod_id = input(\"Enter Product ID: \")\n",
    "    #Displaying the product details\n",
    "    if prod_id in stock_details:\n",
    "        print(\"Product Name:\",stock_details[prod_id][\"name\"])\n",
    "        print(\"Product Price:\",stock_details[prod_id][\"price\"])\n",
    "        print(\"Product Quantity:\",stock_details[prod_id][\"quantity\"])\n",
    "        are_you_sure = input(\"Are you sure you want to remove %s? (Y/N) : \" %stock_details[prod_id][\"name\"])\n",
    "        \n",
    "        if are_you_sure == \"Y\" or are_you_sure == \"y\": #Ensuring to delete\n",
    "            stock_details.pop(prod_id)\n",
    "        \n",
    "    else:\n",
    "        print(\"Product ID Not Found!\")\n",
    "        \n",
    "    flag = input(\"Do you have any other stock to remove? (Y/N) : \")\n",
    "    print(\"\\n\")\n",
    "    \n",
    "#Converting updated dictionary to JSON string\n",
    "stocks = json.dumps(stock_details)\n",
    "\n",
    "file = open(\"stock.json\", \"w\")\n",
    "file.write(stocks)\n",
    "file.close()\n",
    "\n",
    "#BY - Nitheesh Kumaar M V"
   ]
  }
 ],
 "metadata": {
  "kernelspec": {
   "display_name": "Python 3",
   "language": "python",
   "name": "python3"
  },
  "language_info": {
   "codemirror_mode": {
    "name": "ipython",
    "version": 3
   },
   "file_extension": ".py",
   "mimetype": "text/x-python",
   "name": "python",
   "nbconvert_exporter": "python",
   "pygments_lexer": "ipython3",
   "version": "3.5.1"
  }
 },
 "nbformat": 4,
 "nbformat_minor": 0
}
